{
 "cells": [
  {
   "cell_type": "markdown",
   "metadata": {},
   "source": [
    "# Prepare Azure Cognitive Search with Vector Search\n",
    "\n",
    "This script demonstrates how to use the Azure Cognitive Search SDK to create an index over Azure AdventureLT database. This is used to create a search index for the Azure SQL promptflow demo.\n",
    "\n",
    "\n",
    "### Prerequisites\n",
    "\n",
    "To run the code, you need to install the packages in the requirements.txt file. You can do this by running the following command:\n",
    "\n",
    "```python\n",
    "pip install -r requirements.txt\n",
    "```\n",
    "\n",
    "Copyright (c) Microsoft Corporation.\n",
    "Licensed under the MIT license."
   ]
  },
  {
   "cell_type": "code",
   "execution_count": 1,
   "metadata": {},
   "outputs": [
    {
     "data": {
      "text/plain": [
       "True"
      ]
     },
     "execution_count": 1,
     "metadata": {},
     "output_type": "execute_result"
    }
   ],
   "source": [
    "import pandas as pd\n",
    "import pyodbc\n",
    "import json\n",
    "import openai\n",
    "from tqdm.auto import tqdm\n",
    "from dotenv import load_dotenv\n",
    "import os\n",
    "from tenacity import retry, wait_random_exponential, stop_after_attempt\n",
    "from azure.core.credentials import AzureKeyCredential\n",
    "import requests\n",
    "load_dotenv()"
   ]
  },
  {
   "cell_type": "code",
   "execution_count": 2,
   "metadata": {},
   "outputs": [],
   "source": [
    "# init openai service to create embeddings\n",
    "openai.api_key = os.getenv(\"OPENAI_API_KEY_AZURE_Embeddings\")\n",
    "openai.api_type = \"azure\"\n",
    "openai.api_base = os.getenv(\"OPENAI_API_BASE_Embeddings\")\n",
    "openai.api_version = \"2023-03-15-preview\"\n",
    "\n",
    "@retry(wait=wait_random_exponential(min=1, max=20), stop=stop_after_attempt(6))\n",
    "# Function to generate embeddings for title and content fields, also used for query embeddings\n",
    "def generate_embeddings(text,  embedding_model_deploy_id=\"text-embedding-ada-002\"):\n",
    "    response = openai.Embedding.create(\n",
    "        input=text, engine=embedding_model_deploy_id)\n",
    "    embeddings = response['data'][0]['embedding']\n",
    "    return embeddings"
   ]
  },
  {
   "cell_type": "code",
   "execution_count": 3,
   "metadata": {},
   "outputs": [
    {
     "name": "stdout",
     "output_type": "stream",
     "text": [
      "Total records to be indexed: 294, the maximum length of the description field is 221 characters.\n"
     ]
    }
   ],
   "source": [
    "connectionString=os.environ[\"connectionString\"]\n",
    "\n",
    "# SQL QUERY to get products details from the database\n",
    "sqlQuery=\"\"\"SELECT PC.Name AS ProductCategoryName, SP.ProductId, SP.Name, SP.ProductNumber, SP.Color, SP.ListPrice, SP.Size, SP.ProductCategoryID, SP.ProductModelID, PD.ProductDescriptionID, PD.Description\n",
    "from [SalesLT].[Product] SP\n",
    "INNER JOIN SalesLT.ProductCategory PC ON PC.ProductCategoryID = SP.ProductCategoryID\n",
    "INNER JOIN [SalesLT].[ProductModelProductDescription] PMPD ON PMPD.ProductModelID = SP.ProductModelID\n",
    "INNER JOIN [SalesLT].[ProductDescription] PD ON PD.ProductDescriptionID = PMPD.ProductDescriptionID\n",
    "WHERE PMPD.Culture = 'en'\"\"\"\n",
    "\n",
    "# Connect to the database and execute the query to get the data for indexing\n",
    "conn = pyodbc.connect(connectionString)\n",
    "cursor = conn.cursor()\n",
    "queryResults = pd.DataFrame()\n",
    "try:\n",
    "    cursor.execute(sqlQuery)\n",
    "    records = cursor.fetchall()\n",
    "    queryResults = pd.DataFrame.from_records(records, columns=[col[0] for col in cursor.description])\n",
    "except Exception as e:\n",
    "    print(f\"connection could not be established: {e}\")\n",
    "finally:\n",
    "    cursor.close()\n",
    "\n",
    "queryResultsJson = json.loads(queryResults.to_json(orient='records'))\n",
    "print(f\"Total records to be indexed: {len(queryResultsJson)}, the maximum length of the description field is {queryResults['Description'].str.len().max()} characters.\")"
   ]
  },
  {
   "cell_type": "code",
   "execution_count": 4,
   "metadata": {},
   "outputs": [
    {
     "name": "stdout",
     "output_type": "stream",
     "text": [
      "Generating embeddings for the product name and product description fields.\n"
     ]
    },
    {
     "data": {
      "application/vnd.jupyter.widget-view+json": {
       "model_id": "97b2f1a7a2bc414695204d583bede35c",
       "version_major": 2,
       "version_minor": 0
      },
      "text/plain": [
       "  0%|          | 0/294 [00:00<?, ?it/s]"
      ]
     },
     "metadata": {},
     "output_type": "display_data"
    }
   ],
   "source": [
    "# generate embeddings for the product name and product description fields\n",
    "print(\"Generating embeddings for the product name and product description fields.\")\n",
    "for i in tqdm(range(len(queryResultsJson))):\n",
    "    doc = queryResultsJson[i]\n",
    "    queryResultsJson[i]['DescriptionVector'] = generate_embeddings(doc['Description'].strip())\n",
    "    queryResultsJson[i]['ProductCategoryNameVector'] = generate_embeddings(doc['ProductCategoryName'])"
   ]
  },
  {
   "cell_type": "markdown",
   "metadata": {},
   "source": [
    "### Create your seach index"
   ]
  },
  {
   "cell_type": "code",
   "execution_count": 5,
   "metadata": {},
   "outputs": [],
   "source": [
    "from azure.search.documents import SearchClient, SearchIndexingBufferedSender\n",
    "from azure.search.documents.indexes import SearchIndexClient\n",
    "from azure.search.documents.models import (\n",
    "    QueryAnswerType,\n",
    "    QueryCaptionType,\n",
    "    QueryLanguage,\n",
    "    QueryType,\n",
    "    RawVectorQuery,\n",
    "    VectorizableTextQuery,\n",
    "    VectorFilterMode,\n",
    ")\n",
    "from azure.search.documents.indexes.models import (\n",
    "    ExhaustiveKnnVectorSearchAlgorithmConfiguration,\n",
    "    ExhaustiveKnnParameters,\n",
    "    SearchIndex,\n",
    "    SearchField,\n",
    "    SearchFieldDataType,\n",
    "    SimpleField,\n",
    "    SearchableField,\n",
    "    SearchIndex,\n",
    "    SemanticConfiguration,\n",
    "    PrioritizedFields,\n",
    "    SemanticField,\n",
    "    SearchField,\n",
    "    SemanticSettings,\n",
    "    VectorSearch,\n",
    "    HnswVectorSearchAlgorithmConfiguration,\n",
    "    HnswParameters,\n",
    "    VectorSearch,\n",
    "    VectorSearchAlgorithmKind,\n",
    "    VectorSearchProfile,\n",
    "    VectorSearchVectorizer,\n",
    "    VectorSearchVectorizerKind,\n",
    "    AzureOpenAIParameters,\n",
    "    AzureOpenAIVectorizer,\n",
    "    SearchIndex,\n",
    "    SearchField,\n",
    "    SearchFieldDataType,\n",
    "    SimpleField,\n",
    "    SearchableField,\n",
    "    VectorSearch,\n",
    "    HnswVectorSearchAlgorithmConfiguration,\n",
    "    ExhaustiveKnnVectorSearchAlgorithmConfiguration,\n",
    "    ExhaustiveKnnParameters,\n",
    "    SearchIndex,\n",
    "    SearchField,\n",
    "    SimpleField,\n",
    "    SearchableField,\n",
    "    SearchIndex,\n",
    "    SemanticConfiguration,\n",
    "    PrioritizedFields,\n",
    "    SemanticField,\n",
    "    SearchField,\n",
    "    SemanticSettings,\n",
    "    VectorSearch,\n",
    "    HnswVectorSearchAlgorithmConfiguration,\n",
    "    HnswParameters,\n",
    "    VectorSearch,\n",
    "    VectorSearchAlgorithmKind,\n",
    "    VectorSearchProfile,\n",
    "    AzureOpenAIParameters,\n",
    "    AzureOpenAIVectorizer,\n",
    ")\n"
   ]
  },
  {
   "cell_type": "code",
   "execution_count": 7,
   "metadata": {},
   "outputs": [],
   "source": [
    "# init Azure Cognitive Search Service\n",
    "index_name = \"promptflow-demo-product-description\"\n",
    "service_endpoint = os.getenv(\"AZURE_SEARCH_SERVICE_ENDPOINT\")\n",
    "key = os.getenv(\"AZURE_SEARCH_KEY\")\n",
    "credential = AzureKeyCredential(key)\n",
    "model = \"text-embedding-ada-002\""
   ]
  },
  {
   "cell_type": "code",
   "execution_count": 8,
   "metadata": {},
   "outputs": [
    {
     "name": "stdout",
     "output_type": "stream",
     "text": [
      "promptflow-demo-product-description created\n"
     ]
    }
   ],
   "source": [
    "# Create a search index\n",
    "index_client = SearchIndexClient(\n",
    "    endpoint=service_endpoint, credential=credential)\n",
    "fields = [\n",
    "    SearchableField(name=\"ProductCategoryName\", type=SearchFieldDataType.String, searchable = True, filterable=True, facetable=False, retrievable = True),\n",
    "    SearchableField(name=\"ProductId\", type=SearchFieldDataType.String, searchable = True, filterable=True, key=True),\n",
    "    SearchableField(name=\"Name\", type=SearchFieldDataType.String, key=False, searchable = True, sortable=False, filterable=True, facetable=False, retrievable = True),\n",
    "    SearchableField(name=\"ProductNumber\", type=SearchFieldDataType.String, searchable = True),\n",
    "    SearchableField(name=\"Color\", type=SearchFieldDataType.String, searchable = True),\n",
    "    SimpleField(name=\"ListPrice\", type=SearchFieldDataType.Double, searchable = False, filterable=True),\n",
    "    SimpleField(name=\"Size\", type=SearchFieldDataType.String, searchable = False, filterable=True),\n",
    "    SimpleField(name=\"ProductCategoryID\", type=SearchFieldDataType.Int32, searchable = True, filterable=True),\n",
    "    SimpleField(name=\"ProductModelID\", type=SearchFieldDataType.Int32, searchable = True, filterable=True),\n",
    "    SimpleField(name=\"ProductDescriptionID\", type=SearchFieldDataType.Int32, searchable = True, filterable=True, ),\n",
    "    SearchableField(name=\"Description\", type=SearchFieldDataType.String,\n",
    "                    filterable=True, searchable = True),\n",
    "    SearchField(name=\"DescriptionVector\", type=SearchFieldDataType.Collection(SearchFieldDataType.Single),\n",
    "                searchable=True, vector_search_dimensions=1536, vector_search_profile=\"myHnswProfile\"),\n",
    "    SearchField(name=\"ProductCategoryNameVector\", type=SearchFieldDataType.Collection(SearchFieldDataType.Single),\n",
    "                searchable=True, vector_search_dimensions=1536, vector_search_profile=\"myHnswProfile\"),\n",
    "]\n",
    "\n",
    "# Configure the vector search configuration\n",
    "vector_search = VectorSearch(\n",
    "    algorithms=[\n",
    "        HnswVectorSearchAlgorithmConfiguration(\n",
    "            name=\"myHnsw\",\n",
    "            kind=VectorSearchAlgorithmKind.HNSW,\n",
    "            parameters=HnswParameters(\n",
    "                m=4,\n",
    "                ef_construction=400,\n",
    "                ef_search=500,\n",
    "                metric=\"cosine\"\n",
    "            )\n",
    "        ),\n",
    "        ExhaustiveKnnVectorSearchAlgorithmConfiguration(\n",
    "            name=\"myExhaustiveKnn\",\n",
    "            kind=VectorSearchAlgorithmKind.EXHAUSTIVE_KNN,\n",
    "            parameters=ExhaustiveKnnParameters(\n",
    "                metric=\"cosine\"\n",
    "            )\n",
    "        )\n",
    "    ],\n",
    "    profiles=[\n",
    "        VectorSearchProfile(\n",
    "            name=\"myHnswProfile\",\n",
    "            algorithm=\"myHnsw\",\n",
    "            vectorizer=\"myOpenAI\"\n",
    "        ),\n",
    "        VectorSearchProfile(\n",
    "            name=\"myExhaustiveKnnProfile\",\n",
    "            algorithm=\"myExhaustiveKnn\",\n",
    "            vectorizer=\"myOpenAI\"\n",
    "        )\n",
    "    ],\n",
    "    vectorizers=[\n",
    "        AzureOpenAIVectorizer(\n",
    "            name=\"myOpenAI\",\n",
    "            kind=\"azureOpenAI\",\n",
    "            azure_open_ai_parameters=AzureOpenAIParameters(\n",
    "                resource_uri=os.getenv(\"OPENAI_API_BASE_Embeddings\"),\n",
    "                deployment_id=model,\n",
    "                api_key=os.getenv(\"OPENAI_API_KEY_AZURE_Embeddings\")\n",
    "            )\n",
    "    )\n",
    "]\n",
    ")\n",
    "\n",
    "semantic_config = SemanticConfiguration(\n",
    "    name=\"my-semantic-config\",\n",
    "    prioritized_fields=PrioritizedFields(\n",
    "        title_field=SemanticField(field_name=\"Name\"),\n",
    "        prioritized_keywords_fields=[SemanticField(field_name=\"Description\")],\n",
    "        prioritized_content_fields=[SemanticField(field_name=\"Description\")]\n",
    "    )\n",
    ")\n",
    "\n",
    "# Create the semantic settings with the configuration\n",
    "semantic_settings = SemanticSettings(configurations=[semantic_config])\n",
    "\n",
    "# Create the search index with the semantic settings\n",
    "index = SearchIndex(name=index_name, fields=fields,\n",
    "                    vector_search=vector_search, semantic_settings=semantic_settings)\n",
    "result = index_client.create_or_update_index(index)\n",
    "print(f'{result.name} created')"
   ]
  },
  {
   "cell_type": "markdown",
   "metadata": {},
   "source": [
    "### Index and upload embedded documents into vector store"
   ]
  },
  {
   "cell_type": "code",
   "execution_count": 9,
   "metadata": {},
   "outputs": [
    {
     "name": "stdout",
     "output_type": "stream",
     "text": [
      "Uploaded 294 documents\n"
     ]
    }
   ],
   "source": [
    "for i in range(len(queryResultsJson)):\n",
    "    # since productId is the key field, it needs to be a string\n",
    "    queryResultsJson[i]['ProductId'] = str(queryResultsJson[i]['ProductId'])\n",
    "\n",
    "search_client = SearchClient(endpoint=service_endpoint, index_name=index_name, credential=credential)\n",
    "result = search_client.upload_documents(queryResultsJson)\n",
    "print(f\"Uploaded {len(queryResultsJson)} documents\")"
   ]
  },
  {
   "cell_type": "markdown",
   "metadata": {},
   "source": [
    "### Vector Search Example"
   ]
  },
  {
   "cell_type": "code",
   "execution_count": 12,
   "metadata": {},
   "outputs": [],
   "source": [
    "search_service = \"sqldricopilot\"\n",
    "query = \"Do you have something that can help me exercise at home?\"\n",
    "top_k = 5\n",
    "api_version = \"2023-07-01-Preview\"\n",
    "\n",
    "headers = {\n",
    "        'Content-Type': 'application/json',\n",
    "        'api-key': key,\n",
    "    }\n",
    "params = {\n",
    "    'api-version': api_version,\n",
    "}\n",
    "body = {\n",
    "    \"vector\": {\n",
    "        \"value\": generate_embeddings(query),\n",
    "        \"fields\": \"ProductCategoryNameVector, DescriptionVector\",\n",
    "        \"k\": top_k\n",
    "    },\n",
    "    \"select\": \"ProductId, ProductCategoryName, Name, ProductNumber, Color, ListPrice, Size, ProductCategoryID, ProductModelID, ProductDescriptionID, Description\",\n",
    "    \"top\": top_k,\n",
    "}\n",
    "response = requests.post(\n",
    "    f\"{service_endpoint}/indexes/{index_name}/docs/search\", headers=headers, params=params, json=body)\n",
    "response_json = response.json()['value']"
   ]
  },
  {
   "cell_type": "code",
   "execution_count": 13,
   "metadata": {},
   "outputs": [
    {
     "data": {
      "text/plain": [
       "[{'@search.score': 0.01666666753590107,\n",
       "  'ProductCategoryName': 'Socks',\n",
       "  'ProductId': '710',\n",
       "  'Name': 'Mountain Bike Socks, L',\n",
       "  'ProductNumber': 'SO-B909-L',\n",
       "  'Color': 'White',\n",
       "  'ListPrice': 9.5,\n",
       "  'Size': 'L',\n",
       "  'ProductCategoryID': 27,\n",
       "  'ProductModelID': 18,\n",
       "  'ProductDescriptionID': 1189,\n",
       "  'Description': 'Combination of natural and synthetic fibers stays dry and provides just the right cushioning.'},\n",
       " {'@search.score': 0.01666666753590107,\n",
       "  'ProductCategoryName': 'Bike Stands',\n",
       "  'ProductId': '879',\n",
       "  'Name': 'All-Purpose Bike Stand',\n",
       "  'ProductNumber': 'ST-1401',\n",
       "  'Color': None,\n",
       "  'ListPrice': 159.0,\n",
       "  'Size': None,\n",
       "  'ProductCategoryID': 31,\n",
       "  'ProductModelID': 122,\n",
       "  'ProductDescriptionID': 1201,\n",
       "  'Description': 'Perfect all-purpose bike stand for working on your bike at home. Quick-adjusting clamps and steel construction.'},\n",
       " {'@search.score': 0.016393441706895828,\n",
       "  'ProductCategoryName': 'Socks',\n",
       "  'ProductId': '709',\n",
       "  'Name': 'Mountain Bike Socks, M',\n",
       "  'ProductNumber': 'SO-B909-M',\n",
       "  'Color': 'White',\n",
       "  'ListPrice': 9.5,\n",
       "  'Size': 'M',\n",
       "  'ProductCategoryID': 27,\n",
       "  'ProductModelID': 18,\n",
       "  'ProductDescriptionID': 1189,\n",
       "  'Description': 'Combination of natural and synthetic fibers stays dry and provides just the right cushioning.'},\n",
       " {'@search.score': 0.016393441706895828,\n",
       "  'ProductCategoryName': 'Road Bikes',\n",
       "  'ProductId': '974',\n",
       "  'Name': 'Road-350-W Yellow, 42',\n",
       "  'ProductNumber': 'BK-R79Y-42',\n",
       "  'Color': 'Yellow',\n",
       "  'ListPrice': 1700.99,\n",
       "  'Size': '42',\n",
       "  'ProductCategoryID': 6,\n",
       "  'ProductModelID': 27,\n",
       "  'ProductDescriptionID': 376,\n",
       "  'Description': 'Cross-train, race, or just socialize on a sleek, aerodynamic bike designed for a woman.  Advanced seat technology provides comfort all day.'},\n",
       " {'@search.score': 0.016129031777381897,\n",
       "  'ProductCategoryName': 'Socks',\n",
       "  'ProductId': '874',\n",
       "  'Name': 'Racing Socks, M',\n",
       "  'ProductNumber': 'SO-R809-M',\n",
       "  'Color': 'White',\n",
       "  'ListPrice': 8.99,\n",
       "  'Size': 'M',\n",
       "  'ProductCategoryID': 27,\n",
       "  'ProductModelID': 24,\n",
       "  'ProductDescriptionID': 1208,\n",
       "  'Description': 'Thin, lightweight and durable with cuffs that stay up.'}]"
      ]
     },
     "execution_count": 13,
     "metadata": {},
     "output_type": "execute_result"
    }
   ],
   "source": [
    "response_json"
   ]
  },
  {
   "cell_type": "code",
   "execution_count": null,
   "metadata": {},
   "outputs": [],
   "source": []
  }
 ],
 "metadata": {
  "kernelspec": {
   "display_name": "pfsql",
   "language": "python",
   "name": "python3"
  },
  "language_info": {
   "codemirror_mode": {
    "name": "ipython",
    "version": 3
   },
   "file_extension": ".py",
   "mimetype": "text/x-python",
   "name": "python",
   "nbconvert_exporter": "python",
   "pygments_lexer": "ipython3",
   "version": "3.10.13"
  }
 },
 "nbformat": 4,
 "nbformat_minor": 2
}
