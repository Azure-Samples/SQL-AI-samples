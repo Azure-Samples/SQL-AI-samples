{
 "cells": [
  {
   "cell_type": "code",
   "execution_count": null,
   "metadata": {},
   "outputs": [],
   "source": [
    "\n",
    "import pyodbc\n",
    "import os\n",
    "from dotenv import load_dotenv\n",
    "from langchain.agents import create_sql_agent\n",
    "from langchain.agents.agent_types import AgentType\n",
    "from langchain.sql_database import SQLDatabase\n",
    "from langchain_community.agent_toolkits import SQLDatabaseToolkit\n",
    "from langchain_openai import AzureOpenAI\n",
    "load_dotenv()"
   ]
  },
  {
   "cell_type": "code",
   "execution_count": null,
   "metadata": {},
   "outputs": [],
   "source": [
    "# connect to the Azure SQL database\n",
    "\n",
    "from sqlalchemy import create_engine\n",
    "\n",
    "connectionString=os.environ[\"py-connectionString\"]\n",
    "\n",
    "db_engine = create_engine(connectionString)\n",
    "\n",
    "db = SQLDatabase(db_engine, view_support=True, schema=\"dbo\")\n",
    "\n",
    "# test the connection\n",
    "print(db.dialect)\n",
    "print(db.get_usable_table_names())\n",
    "db.run(\"select convert(varchar(25), getdate(), 120)\")\n"
   ]
  },
  {
   "cell_type": "code",
   "execution_count": null,
   "metadata": {},
   "outputs": [],
   "source": [
    "azurellm = AzureOpenAI(\n",
    "    deployment_name=\"langtrain\",\n",
    "    model_name=\"gpt-3.5-turbo-instruct\",\n",
    "    api_version=\"2023-07-01-preview\",\n",
    "    azure_endpoint=\"https://testwed.openai.azure.com\",\n",
    "    api_key=\"05c28289fa3d42daa7fa13439cb02f5e\"\n",
    ")"
   ]
  },
  {
   "cell_type": "code",
   "execution_count": null,
   "metadata": {},
   "outputs": [],
   "source": [
    "toolkit = SQLDatabaseToolkit(db=db, llm=azurellm)\n",
    "agent_executor = create_sql_agent(\n",
    "    llm=azurellm,\n",
    "    toolkit=toolkit,\n",
    "    verbose=True,\n",
    "    agent_type=AgentType.ZERO_SHOT_REACT_DESCRIPTION,\n",
    ")\n"
   ]
  },
  {
   "cell_type": "code",
   "execution_count": null,
   "metadata": {},
   "outputs": [],
   "source": [
    "agent_executor.invoke(\"count the rows in the testtable table.\")"
   ]
  }
 ],
 "metadata": {
  "kernelspec": {
   "display_name": "Python 3",
   "language": "python",
   "name": "python3"
  },
  "language_info": {
   "codemirror_mode": {
    "name": "ipython",
    "version": 3
   },
   "file_extension": ".py",
   "mimetype": "text/x-python",
   "name": "python",
   "nbconvert_exporter": "python",
   "pygments_lexer": "ipython3",
   "version": "3.10.13"
  }
 },
 "nbformat": 4,
 "nbformat_minor": 2
}
