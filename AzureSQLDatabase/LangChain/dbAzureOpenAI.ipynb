{
 "cells": [
  {
   "cell_type": "markdown",
   "metadata": {},
   "source": [
    "# Create a LangChain NL2SQL Agent using Azure OpenAI and Azure SQL Database\n",
    "This notebook goes through the process of creating a LangChain SQL Agent using Azure OpenAI as the LLM against an Azure SQL Database.\n",
    "\n",
    "## Install the required python libraries\n",
    "Start by installing the required libraries. Run the following at the terminal in the project folder so it references the project's requirements.txt:\n",
    "\n",
    "```bash\n",
    "pip install -r requirements.txt\n",
    "```\n"
   ]
  },
  {
   "cell_type": "markdown",
   "metadata": {},
   "source": [
    "## ODBC Driver for MS SQL Install\n",
    "\n",
    "Use the odbcDriverInstallUbuntu.txt script to install the Microsoft ODBC Driver for MS SQL (version 18).\n",
    "\n",
    "If you are not using codespace or Ubuntu, you can find the correct script to install the driver for linux [here](https://learn.microsoft.com/en-us/sql/connect/odbc/linux-mac/installing-the-microsoft-odbc-driver-for-sql-server), for windows [here](https://learn.microsoft.com/en-us/sql/connect/odbc/download-odbc-driver-for-sql-server), and for MacOS [here](https://learn.microsoft.com/en-us/sql/connect/odbc/linux-mac/install-microsoft-odbc-driver-sql-server-macos)."
   ]
  },
  {
   "cell_type": "markdown",
   "metadata": {},
   "source": [
    "## Create the table in the database\n",
    "(all SQL commands are in the database.sql script)\n",
    "\n",
    "In the database that will be used for this notebook, run the following:\n",
    "\n",
    "(create table permission and access to the dbo schema is needed. It's best to keep the roles and permissions at a minimum with working with NL2SQL)\n",
    "\n",
    "```SQL\n",
    "create table [dbo].[langtable] (id int Identity, username nvarchar(100))\n",
    "GO\n",
    "\n",
    "insert into [dbo].[langtable] (username) values('sammy')\n",
    "insert into [dbo].[langtable] (username) values('mary')\n",
    "insert into [dbo].[langtable] (username) values('jane')\n",
    "insert into [dbo].[langtable] (username) values('fred')\n",
    "insert into [dbo].[langtable] (username) values('billy')\n",
    "insert into [dbo].[langtable] (username) values('jonny')\n",
    "insert into [dbo].[langtable] (username) values('kenny')\n",
    "insert into [dbo].[langtable] (username) values('dan')\n",
    "insert into [dbo].[langtable] (username) values('frank')\n",
    "insert into [dbo].[langtable] (username) values('jenny')\n",
    "GO\n",
    "\n",
    "select * from [dbo].[langtable]\n",
    "GO\n",
    "```\n"
   ]
  },
  {
   "cell_type": "markdown",
   "metadata": {},
   "source": [
    "The first section sets up the python environment and gets any environment variables that were set:"
   ]
  },
  {
   "cell_type": "code",
   "execution_count": null,
   "metadata": {},
   "outputs": [],
   "source": [
    "\n",
    "import pyodbc\n",
    "import os\n",
    "from dotenv import load_dotenv\n",
    "from langchain.agents import create_sql_agent\n",
    "from langchain.agents.agent_types import AgentType\n",
    "from langchain.sql_database import SQLDatabase\n",
    "from langchain_community.agent_toolkits import SQLDatabaseToolkit\n",
    "from langchain_openai import AzureOpenAI\n",
    "load_dotenv()"
   ]
  },
  {
   "cell_type": "markdown",
   "metadata": {},
   "source": [
    "Next, create the database connection and test."
   ]
  },
  {
   "cell_type": "code",
   "execution_count": null,
   "metadata": {},
   "outputs": [],
   "source": [
    "# connect to the Azure SQL database\n",
    "\n",
    "from sqlalchemy import create_engine\n",
    "\n",
    "connectionString=os.environ[\"py-connectionString\"]\n",
    "\n",
    "db_engine = create_engine(connectionString)\n",
    "\n",
    "db = SQLDatabase(db_engine, view_support=True, schema=\"saleslt\")\n",
    "\n",
    "# test the connection\n",
    "print(db.dialect)\n",
    "print(db.get_usable_table_names())\n",
    "db.run(\"select convert(varchar(25), getdate(), 120)\")\n"
   ]
  },
  {
   "cell_type": "markdown",
   "metadata": {},
   "source": [
    "Create a reference to Azure OpenAI as the LLM to be used with the SQL agent. Replace DEPLOYMENT_NAME with the name of your Azure OpenAI gpt-3.5-turbo-instruct deployment"
   ]
  },
  {
   "cell_type": "code",
   "execution_count": null,
   "metadata": {},
   "outputs": [],
   "source": [
    "azurellm = AzureOpenAI(\n",
    "    deployment_name=\"DEPLOYMENT_NAME\",\n",
    "    model_name=\"gpt-3.5-turbo-instruct\",\n",
    "    api_version=\"2024-02-15-preview\"\n",
    ")"
   ]
  },
  {
   "cell_type": "markdown",
   "metadata": {},
   "source": [
    "Run the following to create the SQL Agent"
   ]
  },
  {
   "cell_type": "code",
   "execution_count": null,
   "metadata": {},
   "outputs": [],
   "source": [
    "toolkit = SQLDatabaseToolkit(db=db, llm=azurellm)\n",
    "\n",
    "agent_executor = create_sql_agent(\n",
    "    llm=azurellm,\n",
    "    toolkit=toolkit,\n",
    "    verbose=True,\n",
    "    agent_type=AgentType.ZERO_SHOT_REACT_DESCRIPTION,\n",
    ")\n"
   ]
  },
  {
   "cell_type": "markdown",
   "metadata": {},
   "source": [
    "Now, test the agent by creating a prompt using natural language asking about a database object."
   ]
  },
  {
   "cell_type": "code",
   "execution_count": null,
   "metadata": {},
   "outputs": [],
   "source": [
    "agent_executor.invoke(\"count the rows in the langtable table.\")"
   ]
  }
 ],
 "metadata": {
  "kernelspec": {
   "display_name": "Python 3",
   "language": "python",
   "name": "python3"
  },
  "language_info": {
   "codemirror_mode": {
    "name": "ipython",
    "version": 3
   },
   "file_extension": ".py",
   "mimetype": "text/x-python",
   "name": "python",
   "nbconvert_exporter": "python",
   "pygments_lexer": "ipython3",
   "version": "3.10.13"
  }
 },
 "nbformat": 4,
 "nbformat_minor": 2
}
